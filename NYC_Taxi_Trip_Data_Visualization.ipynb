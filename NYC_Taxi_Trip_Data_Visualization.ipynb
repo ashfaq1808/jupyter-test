{
 "cells": [
  {
   "cell_type": "markdown",
   "id": "77484344",
   "metadata": {},
   "source": [
    "# Data Visualization of NYC Taxi Trip Data\n",
    "\n",
    "This notebook outlines the process of loading, cleaning, processing, and visualizing the NYC Taxi Trip data, which is a large dataset typically consisting of millions of records.\n",
    "\n",
    "## Steps:\n",
    "1. **Data Loading**: Load the large CSV file.\n",
    "2. **Data Cleaning**: Handle missing values and outliers.\n",
    "3. **Data Processing**: Calculate trip duration and other metrics.\n",
    "4. **Data Aggregation**: Aggregate data by different dimensions.\n",
    "5. **Data Visualization**: Create various plots to visualize the data.\n",
    "6. **Performance Checks**: Use timing magic commands to measure performance of operations.\n",
    "\n",
    "First, ensure you have downloaded the large dataset from the NYC Taxi and Limousine Commission's website or another similar source. The data should be placed in a known directory."
   ]
  },
  {
   "cell_type": "code",
   "execution_count": null,
   "id": "e38eed20",
   "metadata": {},
   "outputs": [],
   "source": [
    "# Import necessary libraries\n",
    "import pandas as pd\n",
    "import matplotlib.pyplot as plt"
   ]
  },
  {
   "cell_type": "markdown",
   "id": "287b95c8",
   "metadata": {},
   "source": [
    "### Load the Data\n",
    "\n",
    "Use the following cell to load your data. Adjust the path to where your dataset is stored."
   ]
  },
  {
   "cell_type": "code",
   "execution_count": null,
   "id": "d84f7fc7",
   "metadata": {},
   "outputs": [],
   "source": [
    "# Load data directly from a publicly accessible URL\n",
    "import pandas as pd\n",
    "url = 'https://data.cityofnewyork.us/api/views/m6nq-qud6/rows.csv?accessType=DOWNLOAD'  # Replace with the actual URL\n",
    "df = pd.read_csv(url)"
   ]
  },
  {
   "cell_type": "markdown",
   "id": "d4fdf18a",
   "metadata": {},
   "source": [
    "### Data Cleaning\n",
    "\n",
    "Clean the data by removing or imputing missing values and filtering out undesirable records."
   ]
  },
  {
   "cell_type": "code",
   "execution_count": null,
   "id": "98d4e357",
   "metadata": {},
   "outputs": [],
   "source": [
    "%%time\n",
    "df.dropna(inplace=True)\n",
    "df = df[df['fare_amount'] > 0]"
   ]
  },
  {
   "cell_type": "markdown",
   "id": "ef04aacc",
   "metadata": {},
   "source": [
    "### Data Processing\n",
    "\n",
    "Calculate additional metrics like trip duration."
   ]
  },
  {
   "cell_type": "code",
   "execution_count": null,
   "id": "220502f7",
   "metadata": {},
   "outputs": [],
   "source": [
    "%%time\n",
    "df['trip_duration'] = (pd.to_datetime(df['tpep_dropoff_datetime']) - pd.to_datetime(df['tpep_pickup_datetime'])).dt.total_seconds() / 60"
   ]
  },
  {
   "cell_type": "markdown",
   "id": "4f80b985",
   "metadata": {},
   "source": [
    "### Data Aggregation\n",
    "\n",
    "Group the data by hour or day for further analysis."
   ]
  },
  {
   "cell_type": "code",
   "execution_count": null,
   "id": "146f2cc2",
   "metadata": {},
   "outputs": [],
   "source": [
    "%%time\n",
    "hourly_data = df.groupby(df['tpep_pickup_datetime'].dt.hour).count()"
   ]
  },
  {
   "cell_type": "markdown",
   "id": "d7b434aa",
   "metadata": {},
   "source": [
    "### Data Visualization\n",
    "\n",
    "Visualize the aggregated data."
   ]
  },
  {
   "cell_type": "code",
   "execution_count": null,
   "id": "24163c47",
   "metadata": {},
   "outputs": [],
   "source": [
    "%%time\n",
    "plt.figure(figsize=(12, 6))\n",
    "plt.plot(hourly_data.index, hourly_data['VendorID'], marker='o')\n",
    "plt.title('Trip Counts by Hour of Day')\n",
    "plt.xlabel('Hour of Day')\n",
    "plt.ylabel('Number of Trips')\n",
    "plt.grid(True)\n",
    "plt.show()"
   ]
  }
 ],
 "metadata": {
  "language_info": {
   "name": "python"
  }
 },
 "nbformat": 4,
 "nbformat_minor": 5
}
