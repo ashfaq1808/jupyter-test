{
 "cells": [
  {
   "cell_type": "code",
   "execution_count": null,
   "id": "a49dc968-2712-477a-8b73-1cea43f141ca",
   "metadata": {},
   "outputs": [],
   "source": [
    "import pandas as pd\n",
    "import matplotlib.pyplot as plt"
   ]
  },
  {
   "cell_type": "code",
   "execution_count": null,
   "id": "153b8860-5b24-4eb6-b163-2926dda559f0",
   "metadata": {},
   "outputs": [],
   "source": [
    "df = pd.read_csv('auto.csv')"
   ]
  },
  {
   "cell_type": "code",
   "execution_count": null,
   "id": "c494b9a6-7482-4258-a068-86c6c6b9721b",
   "metadata": {},
   "outputs": [],
   "source": [
    "print(df.head())\n",
    "print(df.describe())"
   ]
  },
  {
   "cell_type": "code",
   "execution_count": null,
   "id": "ccc4c4c9-ad11-4714-a1a8-8eeec5b99c37",
   "metadata": {},
   "outputs": [],
   "source": [
    "df.dropna(inplace=True)  # Removing rows with missing values"
   ]
  },
  {
   "cell_type": "code",
   "execution_count": null,
   "id": "6d4a5b26-5228-46b8-be75-7d657ef48304",
   "metadata": {},
   "outputs": [],
   "source": [
    "print(df[['horsepower', 'price', 'highway-mpg']].corr())"
   ]
  },
  {
   "cell_type": "code",
   "execution_count": null,
   "id": "b0db03eb-106d-4ba1-b9e2-b8ff597f136b",
   "metadata": {},
   "outputs": [],
   "source": [
    "plt.scatter(df['horsepower'], df['price'])\n",
    "plt.title('Horsepower vs. Price')\n",
    "plt.xlabel('Horsepower')\n",
    "plt.ylabel('Price')\n",
    "plt.show()\n"
   ]
  },
  {
   "cell_type": "code",
   "execution_count": null,
   "id": "b9123d70-e44d-4a34-87c2-bd0e1691ae6f",
   "metadata": {},
   "outputs": [],
   "source": [
    "df['highway-mpg'].plot(kind='hist', bins=10, color='blue')\n",
    "plt.title('Distribution of Highway MPG')\n",
    "plt.xlabel('Highway MPG')\n",
    "plt.ylabel('Frequency')\n",
    "plt.show()\n"
   ]
  }
 ],
 "metadata": {
  "kernelspec": {
   "display_name": "Python 3 (ipykernel)",
   "language": "python",
   "name": "python3"
  },
  "language_info": {
   "codemirror_mode": {
    "name": "ipython",
    "version": 3
   },
   "file_extension": ".py",
   "mimetype": "text/x-python",
   "name": "python",
   "nbconvert_exporter": "python",
   "pygments_lexer": "ipython3",
   "version": "3.13.1"
  }
 },
 "nbformat": 4,
 "nbformat_minor": 5
}
